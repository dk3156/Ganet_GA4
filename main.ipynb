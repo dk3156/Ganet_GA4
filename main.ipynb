{
 "cells": [
  {
   "cell_type": "code",
   "execution_count": 2,
   "metadata": {},
   "outputs": [],
   "source": [
    "import pandas as pd\n",
    "import numpy as np\n",
    "import plotly.graph_objects as go\n",
    "import plotly.express as px"
   ]
  },
  {
   "cell_type": "code",
   "execution_count": 3,
   "metadata": {},
   "outputs": [
    {
     "name": "stderr",
     "output_type": "stream",
     "text": [
      "/var/folders/mk/p5y6cznx60788rys6_dnljxm0000gn/T/ipykernel_20625/758175610.py:1: DtypeWarning: Columns (1) have mixed types. Specify dtype option on import or set low_memory=False.\n",
      "  df = pd.read_csv('ga_final.csv')\n"
     ]
    }
   ],
   "source": [
    "df = pd.read_csv('ga_final.csv')\n",
    "df['date_format'] = pd.to_datetime(df['date'], format='%Y%m%d')\n",
    "df['start_time'] = pd.to_datetime(df['visitStartTime'], unit='s')"
   ]
  },
  {
   "cell_type": "code",
   "execution_count": 4,
   "metadata": {},
   "outputs": [],
   "source": [
    "# df.to_csv('df.csv', index=False)"
   ]
  },
  {
   "cell_type": "code",
   "execution_count": 5,
   "metadata": {},
   "outputs": [
    {
     "name": "stderr",
     "output_type": "stream",
     "text": [
      "/var/folders/mk/p5y6cznx60788rys6_dnljxm0000gn/T/ipykernel_20625/1201203262.py:2: SettingWithCopyWarning: \n",
      "A value is trying to be set on a copy of a slice from a DataFrame.\n",
      "Try using .loc[row_indexer,col_indexer] = value instead\n",
      "\n",
      "See the caveats in the documentation: https://pandas.pydata.org/pandas-docs/stable/user_guide/indexing.html#returning-a-view-versus-a-copy\n",
      "  date_df['year'] = date_df['date_format'].dt.strftime('%Y')\n",
      "/var/folders/mk/p5y6cznx60788rys6_dnljxm0000gn/T/ipykernel_20625/1201203262.py:3: SettingWithCopyWarning: \n",
      "A value is trying to be set on a copy of a slice from a DataFrame.\n",
      "Try using .loc[row_indexer,col_indexer] = value instead\n",
      "\n",
      "See the caveats in the documentation: https://pandas.pydata.org/pandas-docs/stable/user_guide/indexing.html#returning-a-view-versus-a-copy\n",
      "  date_df['month'] = date_df['date_format'].dt.strftime('%m')\n",
      "/var/folders/mk/p5y6cznx60788rys6_dnljxm0000gn/T/ipykernel_20625/1201203262.py:4: SettingWithCopyWarning: \n",
      "A value is trying to be set on a copy of a slice from a DataFrame.\n",
      "Try using .loc[row_indexer,col_indexer] = value instead\n",
      "\n",
      "See the caveats in the documentation: https://pandas.pydata.org/pandas-docs/stable/user_guide/indexing.html#returning-a-view-versus-a-copy\n",
      "  date_df['week'] = date_df['date_format'].dt.isocalendar().week.astype(str)\n"
     ]
    }
   ],
   "source": [
    "date_df = df[['fullVisitorId', 'date_format']]\n",
    "date_df['year'] = date_df['date_format'].dt.strftime('%Y')\n",
    "date_df['month'] = date_df['date_format'].dt.strftime('%m')\n",
    "date_df['week'] = date_df['date_format'].dt.isocalendar().week.astype(str)\n",
    "date_df['year_month'] = date_df['year'] + '-' + date_df['month']\n",
    "date_df['year_week'] = date_df['year'] + '-' + date_df['week']\n",
    "date_df['dau'] = date_df.groupby('date_format')['fullVisitorId'].transform('nunique')\n",
    "date_df['wau'] = date_df.groupby('year_week')['fullVisitorId'].transform('nunique')\n",
    "date_df['mau'] = date_df.groupby('year_month')['fullVisitorId'].transform('nunique')\n",
    "date_df = date_df.drop(columns=['fullVisitorId'])\n",
    "date_df = date_df.drop_duplicates()\n",
    "date_df = date_df.sort_values(by=['date_format'])"
   ]
  },
  {
   "cell_type": "code",
   "execution_count": 6,
   "metadata": {},
   "outputs": [],
   "source": [
    "# date_df.to_csv('date_df.csv', index=False)"
   ]
  },
  {
   "cell_type": "code",
   "execution_count": 7,
   "metadata": {},
   "outputs": [
    {
     "name": "stderr",
     "output_type": "stream",
     "text": [
      "/var/folders/mk/p5y6cznx60788rys6_dnljxm0000gn/T/ipykernel_20625/2075497521.py:30: UserWarning: Boolean Series key will be reindexed to match DataFrame index.\n",
      "  two_new_user = original[original['semester'] == 2][~original['id'].isin(customers_in_one)]['id'].nunique()\n",
      "/var/folders/mk/p5y6cznx60788rys6_dnljxm0000gn/T/ipykernel_20625/2075497521.py:32: UserWarning: Boolean Series key will be reindexed to match DataFrame index.\n",
      "  three_new_user = original[original['semester'] == 3][~original['id'].isin(customers_in_one) &\\\n",
      "/var/folders/mk/p5y6cznx60788rys6_dnljxm0000gn/T/ipykernel_20625/2075497521.py:35: UserWarning: Boolean Series key will be reindexed to match DataFrame index.\n",
      "  four_new_user = original[original['semester'] == 4][~original['id'].isin(customers_in_one) &\\\n",
      "/var/folders/mk/p5y6cznx60788rys6_dnljxm0000gn/T/ipykernel_20625/2075497521.py:39: UserWarning: Boolean Series key will be reindexed to match DataFrame index.\n",
      "  five_new_user = original[original['semester'] == 5][~original['id'].isin(customers_in_one) &\\\n",
      "/var/folders/mk/p5y6cznx60788rys6_dnljxm0000gn/T/ipykernel_20625/2075497521.py:45: UserWarning: Boolean Series key will be reindexed to match DataFrame index.\n",
      "  one_churn_user = original[original['semester'] == 1][~original['id'].isin(customers_in_two) &\\\n",
      "/var/folders/mk/p5y6cznx60788rys6_dnljxm0000gn/T/ipykernel_20625/2075497521.py:50: UserWarning: Boolean Series key will be reindexed to match DataFrame index.\n",
      "  two_churn_user = original[original['semester'] == 2][~original['id'].isin(customers_in_three) &\\\n",
      "/var/folders/mk/p5y6cznx60788rys6_dnljxm0000gn/T/ipykernel_20625/2075497521.py:54: UserWarning: Boolean Series key will be reindexed to match DataFrame index.\n",
      "  three_churn_user = original[original['semester'] == 3][~original['id'].isin(customers_in_four) &\\\n",
      "/var/folders/mk/p5y6cznx60788rys6_dnljxm0000gn/T/ipykernel_20625/2075497521.py:57: UserWarning: Boolean Series key will be reindexed to match DataFrame index.\n",
      "  four_churn_user = original[original['semester'] == 4][~original['id'].isin(customers_in_five)]['id'].nunique()\n"
     ]
    }
   ],
   "source": [
    "original = df[['date_format', 'fullVisitorId']]\n",
    "temp = original['date_format'].dt.year.astype(str) + '-' + original['date_format'].dt.month.astype(str)\n",
    "\n",
    "def get_semester(series):\n",
    "    if series in ['2016-8', '2016-9']:\n",
    "        return 1\n",
    "    elif series in ['2016-10', '2016-11', '2016-12']:\n",
    "        return 2\n",
    "    elif series in ['2017-1', '2017-2', '2017-3']:\n",
    "        return 3\n",
    "    elif series in ['2017-4', '2017-5', '2017-6']:\n",
    "        return 4\n",
    "    elif series in ['2017-7', '2017-8']:\n",
    "        return 5\n",
    "        \n",
    "temp = pd.DataFrame(temp.apply(get_semester))\n",
    "    # temp.groupby['date_format']['fullVisitorId'].apply(pd.DataFrame.nunique)\n",
    "original = pd.concat([original, temp], axis=1)\n",
    "original.columns = ['date_format', 'id', 'semester']\n",
    "\n",
    "customers_in_one = original[(original['semester'] == 1)]['id'].unique()\n",
    "customers_in_two = original[(original['semester'] == 2)]['id'].unique()\n",
    "customers_in_three = original[(original['semester'] == 3)]['id'].unique()\n",
    "customers_in_four = original[(original['semester'] == 4)]['id'].unique()\n",
    "customers_in_five = original[(original['semester'] == 5)]['id'].unique()\n",
    "\n",
    "    # 1분기 신규\n",
    "one_new_user = len(customers_in_one)\n",
    "    # 2분기 신규\n",
    "two_new_user = original[original['semester'] == 2][~original['id'].isin(customers_in_one)]['id'].nunique()\n",
    "    # 3분기 신규\n",
    "three_new_user = original[original['semester'] == 3][~original['id'].isin(customers_in_one) &\\\n",
    "                                                        ~original['id'].isin(customers_in_two)]['id'].nunique()\n",
    "    # 4분기 신규\n",
    "four_new_user = original[original['semester'] == 4][~original['id'].isin(customers_in_one) &\\\n",
    "                                                        ~original['id'].isin(customers_in_two) &\\\n",
    "                                                        ~original['id'].isin(customers_in_three)]['id'].nunique()\n",
    "    # 5분기 신규\n",
    "five_new_user = original[original['semester'] == 5][~original['id'].isin(customers_in_one) &\\\n",
    "                                                        ~original['id'].isin(customers_in_two) &\\\n",
    "                                                        ~original['id'].isin(customers_in_three) &\\\n",
    "                                                        ~original['id'].isin(customers_in_four)]['id'].nunique()\n",
    "\n",
    "    # 1분기 이탈\n",
    "one_churn_user = original[original['semester'] == 1][~original['id'].isin(customers_in_two) &\\\n",
    "                                                        ~original['id'].isin(customers_in_three) &\\\n",
    "                                                        ~original['id'].isin(customers_in_four) &\\\n",
    "                                                        ~original['id'].isin(customers_in_five)]['id'].nunique()\n",
    "    # 2분기 이탈\n",
    "two_churn_user = original[original['semester'] == 2][~original['id'].isin(customers_in_three) &\\\n",
    "                                                        ~original['id'].isin(customers_in_four) &\\\n",
    "                                                        ~original['id'].isin(customers_in_five)]['id'].nunique()\n",
    "    # 3분기 이탈\n",
    "three_churn_user = original[original['semester'] == 3][~original['id'].isin(customers_in_four) &\\\n",
    "                                                        ~original['id'].isin(customers_in_five)]['id'].nunique()\n",
    "    # 4분기 이탈\n",
    "four_churn_user = original[original['semester'] == 4][~original['id'].isin(customers_in_five)]['id'].nunique()\n",
    "\n",
    "    # 5분기 이탈 없음\n",
    "\n",
    "    # 각 분기 유저수 \n",
    "sau_one = original[(original['semester'] == 1)]['id'].nunique()\n",
    "sau_two = original[(original['semester'] == 2)]['id'].nunique()\n",
    "sau_three = original[(original['semester'] == 3)]['id'].nunique()\n",
    "sau_four = original[(original['semester'] == 4)]['id'].nunique()\n",
    "\n",
    "    # 각 분기 이탈률\n",
    "one_churn_rate = round(one_churn_user / sau_one, 2)\n",
    "two_churn_rate = round(two_churn_user / sau_two, 2)\n",
    "three_churn_rate = round(three_churn_user / sau_three, 2)\n",
    "four_churn_rate = round(four_churn_user / sau_four, 2)\n",
    "\n",
    "    # 각 분기 cc \n",
    "x_third_cc = one_new_user / one_churn_rate\n",
    "x_fourth_cc = two_new_user / two_churn_rate\n",
    "n_first_cc = three_new_user / three_churn_rate\n",
    "n_second_cc = four_new_user / four_churn_rate\n",
    "\n",
    "cc = {}\n",
    "cc['2016 삼분기'] = x_third_cc\n",
    "cc['2016 사분기'] = x_fourth_cc\n",
    "cc['2017 일분기'] = n_first_cc\n",
    "cc['2017 이분기'] = n_second_cc\n",
    "temp2 = pd.Series(cc)\n",
    "\n",
    "sau = {}\n",
    "\n",
    "sau['2016 삼분기'] = sau_one\n",
    "sau['2016 사분기'] = sau_two\n",
    "sau['2017 일분기'] = sau_three\n",
    "sau['2017 이분기'] = sau_four\n",
    "temp = pd.Series(sau)\n",
    "\n",
    "res = pd.concat([temp2, temp], axis=1).reset_index()\n",
    "res.columns = ['quarter', 'carrying capacity', 'qau']"
   ]
  },
  {
   "cell_type": "code",
   "execution_count": 8,
   "metadata": {},
   "outputs": [],
   "source": [
    "# res.to_csv('res.csv', index=False)"
   ]
  },
  {
   "cell_type": "code",
   "execution_count": 9,
   "metadata": {},
   "outputs": [
    {
     "name": "stderr",
     "output_type": "stream",
     "text": [
      "/var/folders/mk/p5y6cznx60788rys6_dnljxm0000gn/T/ipykernel_20625/1647924287.py:14: SettingWithCopyWarning: \n",
      "A value is trying to be set on a copy of a slice from a DataFrame.\n",
      "Try using .loc[row_indexer,col_indexer] = value instead\n",
      "\n",
      "See the caveats in the documentation: https://pandas.pydata.org/pandas-docs/stable/user_guide/indexing.html#returning-a-view-versus-a-copy\n",
      "  result2['min2'] = result2['min'].apply(lambda x: datetime.strptime(str(x), '%H:%M:%S'))\n",
      "/var/folders/mk/p5y6cznx60788rys6_dnljxm0000gn/T/ipykernel_20625/1647924287.py:15: SettingWithCopyWarning: \n",
      "A value is trying to be set on a copy of a slice from a DataFrame.\n",
      "Try using .loc[row_indexer,col_indexer] = value instead\n",
      "\n",
      "See the caveats in the documentation: https://pandas.pydata.org/pandas-docs/stable/user_guide/indexing.html#returning-a-view-versus-a-copy\n",
      "  result2['max2'] = result2['max'].apply(lambda x: datetime.strptime(str(x), '%H:%M:%S'))\n",
      "/var/folders/mk/p5y6cznx60788rys6_dnljxm0000gn/T/ipykernel_20625/1647924287.py:16: SettingWithCopyWarning: \n",
      "A value is trying to be set on a copy of a slice from a DataFrame.\n",
      "Try using .loc[row_indexer,col_indexer] = value instead\n",
      "\n",
      "See the caveats in the documentation: https://pandas.pydata.org/pandas-docs/stable/user_guide/indexing.html#returning-a-view-versus-a-copy\n",
      "  result2['max_min_minus'] = result2['max2'] - result2['min2']\n",
      "/var/folders/mk/p5y6cznx60788rys6_dnljxm0000gn/T/ipykernel_20625/1647924287.py:17: SettingWithCopyWarning: \n",
      "A value is trying to be set on a copy of a slice from a DataFrame.\n",
      "Try using .loc[row_indexer,col_indexer] = value instead\n",
      "\n",
      "See the caveats in the documentation: https://pandas.pydata.org/pandas-docs/stable/user_guide/indexing.html#returning-a-view-versus-a-copy\n",
      "  result2['max_min_minus'] = result2['max_min_minus'] / pd.Timedelta(1, 'h')\n"
     ]
    }
   ],
   "source": [
    "from datetime import datetime\n",
    "train_df2 = df[['fullVisitorId', 'date_format', 'start_time']]\n",
    "train_df2.columns = ['fullVisitorId', 'date', 'start_time']\n",
    "group = train_df2.groupby(['date', 'fullVisitorId'])['start_time']\n",
    "\n",
    "result = pd.concat([group.min(), group.max()], axis=1)\n",
    "result.columns = ['min', 'max']\n",
    "result['min'] = result['min'].dt.strftime('%H:%M:%S')\n",
    "result['max'] = result['max'].dt.strftime('%H:%M:%S')\n",
    "    \n",
    "result2 = result[result['max'] > result['min']]\n",
    "result2.reset_index(inplace=True)\n",
    "\n",
    "result2['min2'] = result2['min'].apply(lambda x: datetime.strptime(str(x), '%H:%M:%S'))\n",
    "result2['max2'] = result2['max'].apply(lambda x: datetime.strptime(str(x), '%H:%M:%S'))\n",
    "result2['max_min_minus'] = result2['max2'] - result2['min2']\n",
    "result2['max_min_minus'] = result2['max_min_minus'] / pd.Timedelta(1, 'h')\n",
    "id_max_min_minus_mean = pd.DataFrame(result2.groupby('fullVisitorId')['max_min_minus'].mean())\n",
    "total_max_min_minus_mean = result2['max_min_minus'].sum() / 47217\n",
    "\n",
    "ecdf = id_max_min_minus_mean / total_max_min_minus_mean\n",
    "ecdf.reset_index(inplace=True)\n",
    "\n",
    "# ecdf.to_csv('ecdf.csv', index=False)"
   ]
  },
  {
   "cell_type": "code",
   "execution_count": 10,
   "metadata": {},
   "outputs": [
    {
     "name": "stderr",
     "output_type": "stream",
     "text": [
      "/var/folders/mk/p5y6cznx60788rys6_dnljxm0000gn/T/ipykernel_20625/3404824880.py:2: SettingWithCopyWarning: \n",
      "A value is trying to be set on a copy of a slice from a DataFrame.\n",
      "Try using .loc[row_indexer,col_indexer] = value instead\n",
      "\n",
      "See the caveats in the documentation: https://pandas.pydata.org/pandas-docs/stable/user_guide/indexing.html#returning-a-view-versus-a-copy\n",
      "  week_df['year'] = week_df['date_format'].dt.isocalendar().year\n",
      "/var/folders/mk/p5y6cznx60788rys6_dnljxm0000gn/T/ipykernel_20625/3404824880.py:3: SettingWithCopyWarning: \n",
      "A value is trying to be set on a copy of a slice from a DataFrame.\n",
      "Try using .loc[row_indexer,col_indexer] = value instead\n",
      "\n",
      "See the caveats in the documentation: https://pandas.pydata.org/pandas-docs/stable/user_guide/indexing.html#returning-a-view-versus-a-copy\n",
      "  week_df['week'] = week_df['date_format'].dt.isocalendar().week\n"
     ]
    }
   ],
   "source": [
    "week_df = df[['fullVisitorId', 'date_format', 'start_time']]\n",
    "week_df['year'] = week_df['date_format'].dt.isocalendar().year\n",
    "week_df['week'] = week_df['date_format'].dt.isocalendar().week\n",
    "week_df['current_week'] = week_df['year'] * 52 + week_df['week']\n",
    "index_lst = week_df['year'] + (week_df['week'] / 100)\n",
    "index_lst = sorted(list(index_lst.unique()))\n",
    "week_df['start_week'] = week_df.groupby(['fullVisitorId'])[['current_week']].transform('min')\n",
    "week_df['c_ind'] = week_df['current_week'] - week_df['start_week']\n",
    "week_df['start_week'] = week_df['start_week'] - week_df['start_week'].min()\n",
    "grouping = week_df.groupby(['start_week', 'c_ind'])\n",
    "cohort_data = grouping['fullVisitorId'].apply(pd.Series.nunique)\n",
    "cohort_data = pd.DataFrame(cohort_data)\n",
    "cohort_data = cohort_data.reset_index()\n",
    "cohort_counts = cohort_data.pivot(index='start_week', columns='c_ind', values='fullVisitorId')\n",
    "retention = cohort_counts\n",
    "indices = cohort_counts.index.to_list()\n",
    "column_inds = cohort_counts.columns.to_list()\n",
    "for i in range(len(indices)):\n",
    "    m = indices[i]\n",
    "    for j in range(len(column_inds)-1, 0, -1):\n",
    "        retention.at[(m, column_inds[j])] = retention.at[(m, column_inds[j])] / retention.at[(m, column_inds[j-1])]\n",
    "    retention.at[(m, 0)] = retention.at[(m, 0)] / retention.at[(m, 0)]\n",
    "    \n",
    "# retention.to_csv('retention.csv', index=False)    "
   ]
  },
  {
   "cell_type": "code",
   "execution_count": 11,
   "metadata": {},
   "outputs": [
    {
     "name": "stderr",
     "output_type": "stream",
     "text": [
      "/var/folders/mk/p5y6cznx60788rys6_dnljxm0000gn/T/ipykernel_20625/1325184305.py:6: SettingWithCopyWarning: \n",
      "A value is trying to be set on a copy of a slice from a DataFrame.\n",
      "Try using .loc[row_indexer,col_indexer] = value instead\n",
      "\n",
      "See the caveats in the documentation: https://pandas.pydata.org/pandas-docs/stable/user_guide/indexing.html#returning-a-view-versus-a-copy\n",
      "  hourday['day'] = hourday['date_format'].dt.day_name()\n",
      "/var/folders/mk/p5y6cznx60788rys6_dnljxm0000gn/T/ipykernel_20625/1325184305.py:7: SettingWithCopyWarning: \n",
      "A value is trying to be set on a copy of a slice from a DataFrame.\n",
      "Try using .loc[row_indexer,col_indexer] = value instead\n",
      "\n",
      "See the caveats in the documentation: https://pandas.pydata.org/pandas-docs/stable/user_guide/indexing.html#returning-a-view-versus-a-copy\n",
      "  hourday['time'] = hourday['start_time'].dt.hour\n",
      "/var/folders/mk/p5y6cznx60788rys6_dnljxm0000gn/T/ipykernel_20625/1325184305.py:21: SettingWithCopyWarning: \n",
      "A value is trying to be set on a copy of a slice from a DataFrame\n",
      "\n",
      "See the caveats in the documentation: https://pandas.pydata.org/pandas-docs/stable/user_guide/indexing.html#returning-a-view-versus-a-copy\n",
      "  hourday['time'].replace(to_replace=to_replace, value=value, inplace=True)\n"
     ]
    }
   ],
   "source": [
    "# 전체 52주\n",
    "start_week = '2016-08-01'\n",
    "end_week = '2017-07-31'\n",
    "num_of_weeks = int((pd.to_datetime(end_week) - pd.to_datetime(start_week)) / np.timedelta64(1, 'W'))\n",
    "hourday = df[['fullVisitorId', 'date_format', 'start_time']]\n",
    "hourday['day'] = hourday['date_format'].dt.day_name()\n",
    "hourday['time'] = hourday['start_time'].dt.hour\n",
    "    \n",
    "to_replace = [i for i in range(24)]\n",
    "value = []\n",
    "for i in range(24):\n",
    "    if i == 0:\n",
    "        value.append(f'12 am')\n",
    "    elif 1 <= i < 12:\n",
    "        value.append(f'{i} am')\n",
    "    elif i == 12:\n",
    "        value.append(f'12 pm')\n",
    "    else:\n",
    "        value.append(f'{i-12} pm')\n",
    "            \n",
    "hourday['time'].replace(to_replace=to_replace, value=value, inplace=True)\n",
    "hourday = hourday[(hourday['date_format'] >= start_week) & (hourday['date_format'] <= end_week)]\n",
    "grouping = hourday.groupby(['day', 'time'])\n",
    "week_data = grouping['fullVisitorId'].apply(pd.Series.nunique)\n",
    "week_data = pd.DataFrame(week_data).divide(num_of_weeks).round(1)\n",
    "    \n",
    "order = ['Monday', 'Tuesday', 'Wednesday', 'Thursday', 'Friday', 'Saturday', 'Sunday']\n",
    "week_data = week_data.reset_index()\n",
    "week_count = week_data.pivot(index='time', columns='day', values='fullVisitorId')\n",
    "week_count = week_count.reindex(columns=order)\n",
    "week_count = week_count.reindex(value)"
   ]
  },
  {
   "cell_type": "code",
   "execution_count": 12,
   "metadata": {},
   "outputs": [],
   "source": [
    "# week_count.to_csv('week_count.csv', index=False)"
   ]
  },
  {
   "cell_type": "code",
   "execution_count": 13,
   "metadata": {},
   "outputs": [],
   "source": [
    "date_channel = df[['date_format', 'channelGrouping', 'fullVisitorId']]\n",
    "date_channel.columns = ['date', 'channelGrouping', 'fullVisitorId']\n",
    "year_month = date_channel['date'].dt.year.astype(str) + '-' + date_channel['date'].dt.month.astype(str)\n",
    "\n",
    "year_month = pd.DataFrame(year_month)\n",
    "date_channel = pd.concat([date_channel, year_month], axis=1)\n",
    "\n",
    "date_channel.columns = ['date', 'channelGrouping', 'fullVisitorId', 'monthly']\n",
    "mon_chan = pd.DataFrame(date_channel.groupby(['monthly', 'channelGrouping'])['fullVisitorId'].count())\n",
    "channel_1610 = mon_chan.loc['2016-10',].reset_index()\n",
    "channel_1611 = mon_chan.loc['2016-11',].reset_index()\n",
    "mon_chan = mon_chan.reset_index()"
   ]
  },
  {
   "cell_type": "code",
   "execution_count": 15,
   "metadata": {},
   "outputs": [],
   "source": [
    "mon_chan.to_csv('mon_chan.csv', index=False)\n",
    "channel_1610.to_csv('1610.csv', index=False)\n",
    "channel_1611.to_csv('1611.csv', index=False)"
   ]
  }
 ],
 "metadata": {
  "kernelspec": {
   "display_name": "base",
   "language": "python",
   "name": "python3"
  },
  "language_info": {
   "codemirror_mode": {
    "name": "ipython",
    "version": 3
   },
   "file_extension": ".py",
   "mimetype": "text/x-python",
   "name": "python",
   "nbconvert_exporter": "python",
   "pygments_lexer": "ipython3",
   "version": "3.10.9"
  }
 },
 "nbformat": 4,
 "nbformat_minor": 2
}
